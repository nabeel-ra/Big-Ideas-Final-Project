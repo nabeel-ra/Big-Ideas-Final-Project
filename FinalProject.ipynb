{
 "cells": [
  {
   "cell_type": "markdown",
   "id": "a794f55a-4f7c-4dc3-88df-df443855e371",
   "metadata": {},
   "source": [
    "# BEST NEIGHBORHOOD IN PITTSBURGH  \n",
    "**Team The Code Warriors**\n",
    "\n",
    "## Introduction  "
   ]
  },
  {
   "cell_type": "code",
   "execution_count": null,
   "id": "83965917-d8e8-4b70-abfa-cf912b4cdda9",
   "metadata": {},
   "outputs": [],
   "source": []
  }
 ],
 "metadata": {
  "kernelspec": {
   "display_name": "Python 3 (ipykernel)",
   "language": "python",
   "name": "python3"
  },
  "language_info": {
   "codemirror_mode": {
    "name": "ipython",
    "version": 3
   },
   "file_extension": ".py",
   "mimetype": "text/x-python",
   "name": "python",
   "nbconvert_exporter": "python",
   "pygments_lexer": "ipython3",
   "version": "3.11.5"
  }
 },
 "nbformat": 4,
 "nbformat_minor": 5
}
